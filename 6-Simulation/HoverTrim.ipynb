{
 "cells": [
  {
   "cell_type": "code",
   "execution_count": 1,
   "id": "processed-brook",
   "metadata": {},
   "outputs": [],
   "source": [
    "import jsbsim\n",
    "import numpy as np\n",
    "import scipy.optimize\n",
    "import pandas as pd\n",
    "\n",
    "import matplotlib.pyplot as plt\n",
    "from pathlib import Path\n",
    "import time\n",
    "from logger import Logger"
   ]
  },
  {
   "cell_type": "code",
   "execution_count": 2,
   "id": "american-emergency",
   "metadata": {},
   "outputs": [],
   "source": [
    "def set_location_purdue_airport(fdm):\n",
    "    # location, Purdue airport\n",
    "    fdm['ic/terrain-elevation-ft'] = 584.5\n",
    "    fdm['ic/lat-geod-deg'] = 40.4110213580397\n",
    "    fdm['ic/long-gc-deg'] = -86.92756398413263\n",
    "    fdm['ic/psi-true-deg'] = 280"
   ]
  },
  {
   "cell_type": "code",
   "execution_count": 3,
   "id": "restricted-impossible",
   "metadata": {},
   "outputs": [],
   "source": [
    "def trim(aircraft, ic, design_vector, x0, verbose, **kwargs):\n",
    "    root = Path('.').resolve()\n",
    "    fdm = jsbsim.FGFDMExec(str(root)) # The path supplied to FGFDMExec is the location of the folders \"aircraft\", \"engines\" and \"systems\"\n",
    "    fdm.set_debug_level(0)    \n",
    "    fdm.load_model(aircraft)\n",
    "    fdm.suspend_integration()\n",
    "    \n",
    "    # set location\n",
    "    set_location_purdue_airport(fdm)\n",
    "    \n",
    "    fdm_props = fdm.get_property_catalog('')\n",
    "    for key in design_vector + list(ic.keys()):\n",
    "        if key not in fdm_props.keys():\n",
    "            raise KeyError(key)\n",
    "            \n",
    "    # cost function for trimming\n",
    "    def cost(xd):\n",
    "        # set initial condition\n",
    "        for var in ic.keys():\n",
    "            fdm[var] = ic[var]\n",
    "\n",
    "        # set design vector\n",
    "        for i, var in enumerate(design_vector):\n",
    "            fdm[var] = xd[i]\n",
    "        \n",
    "        # set initial conditions\n",
    "        fdm.run_ic()\n",
    "        \n",
    "        # trim propulsion\n",
    "        prop = fdm.get_propulsion()\n",
    "        for i in range(prop.get_num_engines()):\n",
    "            prop.init_running(i)\n",
    "\n",
    "        # compute cost, force moment balance\n",
    "        udot = fdm['accelerations/udot-ft_sec2']\n",
    "        vdot = fdm['accelerations/vdot-ft_sec2']\n",
    "        wdot = fdm['accelerations/wdot-ft_sec2']\n",
    "        pdot = fdm['accelerations/pdot-rad_sec2']\n",
    "        qdot = fdm['accelerations/qdot-rad_sec2']\n",
    "        rdot = fdm['accelerations/rdot-rad_sec2']\n",
    "        return udot**2 + vdot**2 + wdot**2 + pdot**2 + qdot**2 + rdot**2\n",
    "    \n",
    "    res = scipy.optimize.minimize(fun=cost, x0=x0, **kwargs)\n",
    "    if verbose:\n",
    "        print(res)\n",
    "    for i, var in enumerate(design_vector):\n",
    "        ic[var] = res['x'][i]\n",
    "    \n",
    "    return ic, fdm"
   ]
  },
  {
   "cell_type": "code",
   "execution_count": 4,
   "id": "distinct-treasury",
   "metadata": {
    "tags": []
   },
   "outputs": [],
   "source": [
    "def simulate(aircraft, op_0, op_list=None, op_times=None, tf=50, realtime=False):\n",
    "    if op_list is None:\n",
    "        op_list = []\n",
    "    \n",
    "    if op_times is None:\n",
    "        op_times = []\n",
    "        \n",
    "    root = Path('.').resolve()\n",
    "    fdm = jsbsim.FGFDMExec(str(root)) # The path supplied to FGFDMExec is the location of the folders \"aircraft\", \"engines\" and \"systems\"\n",
    "\n",
    "    # load model\n",
    "    fdm.load_model(aircraft)\n",
    "    fdm.set_output_directive(str(root/ 'data_output' / 'flightgear.xml'))\n",
    "    fdm_props = fdm.get_property_catalog('')\n",
    "    \n",
    "    # add a method to check that properties being set exist\n",
    "    def set_opereating_point(props):\n",
    "        for key in props.keys():\n",
    "            if key not in fdm_props.keys():\n",
    "                raise KeyError(key)\n",
    "            else:\n",
    "                fdm[key] = props[key]\n",
    "    \n",
    "    # set location\n",
    "    set_location_purdue_airport(fdm)\n",
    "    \n",
    "    # set operating points\n",
    "    set_opereating_point(op_0)\n",
    "    \n",
    "    # start engines\n",
    "    prop = fdm.get_propulsion()\n",
    "    fdm.run_ic()\n",
    "    for i in range(prop.get_num_engines()):\n",
    "        prop.init_running(i)\n",
    "\n",
    "    # start loop\n",
    "    log = Logger()\n",
    "    nice = True\n",
    "    sleep_nseconds = 500\n",
    "    initial_seconds = time.time()\n",
    "    frame_duration = fdm.get_delta_t()\n",
    "    op_count = 0\n",
    "    result = fdm.run()\n",
    "\n",
    "    while result and fdm.get_sim_time() < tf:\n",
    "        t = fdm.get_sim_time()\n",
    "        if op_count < len(op_times) and t > op_times[op_count]:\n",
    "            set_opereating_point(op_list[op_count])\n",
    "            op_count += 1\n",
    "\n",
    "        if realtime:\n",
    "            current_seconds = time.time()\n",
    "            actual_elapsed_time = current_seconds - initial_seconds\n",
    "            sim_lag_time = actual_elapsed_time - fdm.get_sim_time()\n",
    "\n",
    "            for _ in range(int(sim_lag_time / frame_duration)):\n",
    "                result = fdm.run()\n",
    "                current_seconds = time.time()\n",
    "        else:\n",
    "            result = fdm.run()\n",
    "            if nice:\n",
    "                time.sleep(sleep_nseconds / 1000000.0)\n",
    "        log.new_frame(\n",
    "            t, fdm.get_property_catalog(''))\n",
    "\n",
    "    log = log.to_pandas()\n",
    "    return log"
   ]
  },
  {
   "cell_type": "code",
   "execution_count": 5,
   "id": "operating-samba",
   "metadata": {},
   "outputs": [
    {
     "name": "stdout",
     "output_type": "stream",
     "text": [
      " final_simplex: (array([[4.85765918e-04, 3.70162834e+00],\n",
      "       [4.85765918e-04, 3.70162834e+00],\n",
      "       [4.85765918e-04, 3.70162834e+00]]), array([9.03386380e-12, 9.03386381e-12, 9.03386381e-12]))\n",
      "           fun: 9.033863801684596e-12\n",
      "       message: 'Optimization terminated successfully.'\n",
      "          nfev: 300\n",
      "           nit: 152\n",
      "        status: 0\n",
      "       success: True\n",
      "             x: array([4.85765918e-04, 3.70162834e+00])\n"
     ]
    },
    {
     "data": {
      "text/plain": [
       "{'ic/vt-fps': 0,\n",
       " 'gear/gear-cmd-norm': 1,\n",
       " 'propulsion/engine/pitch-angle-rad': 0,\n",
       " 'fcs/throttle-cmd-norm': 0,\n",
       " 'fcs/aileron-cmd-norm': 0,\n",
       " 'fcs/elevator-cmd-norm': 0,\n",
       " 'fcs/rudder-cmd-norm': 0,\n",
       " 'fcs/left-brake-cmd-norm': 1,\n",
       " 'fcs/right-brake-cmd-norm': 1,\n",
       " 'fcs/center-brake-cmd-norm': 1,\n",
       " 'ic/theta-rad': 0.0004857659179286267,\n",
       " 'ic/h-agl-ft': 3.7016283364266105}"
      ]
     },
     "execution_count": 5,
     "metadata": {},
     "output_type": "execute_result"
    }
   ],
   "source": [
    "op_ground, fdm = trim(\n",
    "    aircraft='F-35B-2',\n",
    "    ic={\n",
    "        'ic/vt-fps': 0,\n",
    "        'gear/gear-cmd-norm': 1,\n",
    "        'propulsion/engine/pitch-angle-rad': 0,\n",
    "        'fcs/throttle-cmd-norm': 0,\n",
    "        'fcs/throttle-cmd-norm': 0,\n",
    "        'fcs/aileron-cmd-norm': 0,\n",
    "        'fcs/elevator-cmd-norm': 0,\n",
    "        'fcs/rudder-cmd-norm': 0,\n",
    "        'fcs/left-brake-cmd-norm': 1,\n",
    "        'fcs/right-brake-cmd-norm': 1,\n",
    "        'fcs/center-brake-cmd-norm': 1,\n",
    "    },\n",
    "    design_vector=['ic/theta-rad', 'ic/h-agl-ft'],\n",
    "    x0=[0, 0],\n",
    "    verbose=True,\n",
    "    method='Nelder-Mead', # works better with ground interaction\n",
    "    tol=1e-12\n",
    ")\n",
    "op_ground"
   ]
  },
  {
   "cell_type": "code",
   "execution_count": 6,
   "id": "binding-project",
   "metadata": {},
   "outputs": [],
   "source": [
    "log_ground = simulate(\n",
    "    aircraft='F-35B-2',\n",
    "    op_0=op_ground,\n",
    "    tf=5,\n",
    "    realtime=True)"
   ]
  },
  {
   "cell_type": "code",
   "execution_count": 7,
   "id": "soviet-worst",
   "metadata": {},
   "outputs": [
    {
     "name": "stdout",
     "output_type": "stream",
     "text": [
      "      fun: 7.95502465225636e-12\n",
      " hess_inv: <3x3 LbfgsInvHessProduct with dtype=float64>\n",
      "      jac: array([6.47673147e-10, 6.93364681e-12, 1.77555762e-11])\n",
      "  message: 'ABNORMAL_TERMINATION_IN_LNSRCH'\n",
      "     nfev: 280\n",
      "      nit: 21\n",
      "     njev: 70\n",
      "   status: 2\n",
      "  success: False\n",
      "        x: array([ 1.01011378, -0.20000589,  1.57079635])\n"
     ]
    },
    {
     "data": {
      "text/plain": [
       "{'ic/h-agl-ft': 30,\n",
       " 'ic/vd-fps': 0,\n",
       " 'ic/vn-fps': 0.0,\n",
       " 'ic/ve-fps': -0.0,\n",
       " 'ic/theta-rad': 0,\n",
       " 'gear/gear-cmd-norm': 1,\n",
       " 'fcs/left-brake-cmd-norm': 0,\n",
       " 'fcs/right-brake-cmd-norm': 0,\n",
       " 'fcs/center-brake-cmd-norm': 0,\n",
       " 'fcs/throttle-cmd-norm': 1.010113780038632,\n",
       " 'fcs/elevator-cmd-norm': -0.20000589241972808,\n",
       " 'propulsion/engine/pitch-angle-rad': 1.5707963510952738}"
      ]
     },
     "execution_count": 7,
     "metadata": {},
     "output_type": "execute_result"
    }
   ],
   "source": [
    "op_hover, fdm = trim(\n",
    "    aircraft='F-35B-2',\n",
    "    ic={\n",
    "        'ic/h-agl-ft': 30,\n",
    "        'ic/vd-fps': 0,\n",
    "        'ic/vn-fps': 0*np.cos(np.deg2rad(280)),\n",
    "        'ic/ve-fps': 0*np.sin(np.deg2rad(280)),\n",
    "        'ic/theta-rad': 0,\n",
    "        'gear/gear-cmd-norm': 1,\n",
    "        'fcs/left-brake-cmd-norm': 0,\n",
    "        'fcs/right-brake-cmd-norm': 0,\n",
    "        'fcs/center-brake-cmd-norm': 0,\n",
    "    },\n",
    "    design_vector=[\n",
    "        'fcs/throttle-cmd-norm',\n",
    "        'fcs/elevator-cmd-norm',\n",
    "        'propulsion/engine/pitch-angle-rad',\n",
    "    ],\n",
    "    x0=[0, 0, np.deg2rad(90)],\n",
    "    verbose=True,\n",
    "    bounds=[[0, 2], [-1, 1], [np.deg2rad(0), np.deg2rad(120)]],\n",
    "    tol=1e-30\n",
    ")\n",
    "op_hover"
   ]
  },
  {
   "cell_type": "code",
   "execution_count": 8,
   "id": "clinical-israel",
   "metadata": {},
   "outputs": [],
   "source": [
    "log_hover = simulate(\n",
    "    aircraft='F-35B-2',\n",
    "    op_0=op_hover,\n",
    "    tf=5,\n",
    "    realtime=True)"
   ]
  },
  {
   "cell_type": "code",
   "execution_count": 9,
   "id": "cultural-fitting",
   "metadata": {},
   "outputs": [
    {
     "name": "stdout",
     "output_type": "stream",
     "text": [
      "      fun: 6.242881439632952e-10\n",
      " hess_inv: <6x6 LbfgsInvHessProduct with dtype=float64>\n",
      "      jac: array([ 1.11129733e-05, -3.10438777e-05,  3.04533405e-05,  1.39166369e-05,\n",
      "        8.36139909e-04, -5.24394705e-04])\n",
      "  message: 'CONVERGENCE: REL_REDUCTION_OF_F_<=_FACTR*EPSMCH'\n",
      "     nfev: 483\n",
      "      nit: 54\n",
      "     njev: 69\n",
      "   status: 0\n",
      "  success: True\n",
      "        x: array([ 9.28218743e-01, -6.84827056e-02,  3.21122595e-04,  4.15289878e-06,\n",
      "       -2.51992125e-03,  2.71617747e-04])\n"
     ]
    },
    {
     "data": {
      "text/plain": [
       "{'ic/gamma-rad': 0,\n",
       " 'ic/vt-fps': 800,\n",
       " 'ic/h-agl-ft': 500,\n",
       " 'gear/gear-cmd-norm': 0,\n",
       " 'propulsion/engine/pitch-angle-rad': 0,\n",
       " 'fcs/left-brake-cmd-norm': 0,\n",
       " 'fcs/right-brake-cmd-norm': 0,\n",
       " 'fcs/center-brake-cmd-norm': 0,\n",
       " 'fcs/throttle-cmd-norm': 0.9282187425141079,\n",
       " 'fcs/elevator-cmd-norm': -0.06848270564465889,\n",
       " 'fcs/rudder-cmd-norm': 0.0003211225945809392,\n",
       " 'fcs/aileron-cmd-norm': 4.152898779530449e-06,\n",
       " 'ic/alpha-rad': -0.0025199212482656767,\n",
       " 'ic/beta-rad': 0.0002716177468953607}"
      ]
     },
     "execution_count": 9,
     "metadata": {},
     "output_type": "execute_result"
    }
   ],
   "source": [
    "op_cruise, fdm = trim(\n",
    "    aircraft='F-35B-2',\n",
    "    ic={\n",
    "        'ic/gamma-rad': 0,\n",
    "        'ic/vt-fps': 800,\n",
    "        'ic/h-agl-ft': 500,\n",
    "        'gear/gear-cmd-norm': 0,\n",
    "        'propulsion/engine/pitch-angle-rad': 0,\n",
    "        'fcs/left-brake-cmd-norm': 0,\n",
    "        'fcs/right-brake-cmd-norm': 0,\n",
    "        'fcs/center-brake-cmd-norm': 0,\n",
    "    },\n",
    "    design_vector=[\n",
    "        'fcs/throttle-cmd-norm',\n",
    "        'fcs/elevator-cmd-norm',\n",
    "        'fcs/rudder-cmd-norm',\n",
    "        'fcs/aileron-cmd-norm',\n",
    "        'ic/alpha-rad',\n",
    "        'ic/beta-rad',\n",
    "    ],\n",
    "    x0=[0.5, 0, 0, 0, 0, 0],\n",
    "    verbose=True,\n",
    "    bounds=[[0, 2], [-1, 1], [-1, 1], [-1, 1], [-1, 1], [-1, 1]],\n",
    ")\n",
    "op_cruise"
   ]
  },
  {
   "cell_type": "code",
   "execution_count": 10,
   "id": "rational-suggestion",
   "metadata": {},
   "outputs": [],
   "source": [
    "log_cruise = simulate(\n",
    "    aircraft='F-35B-2',\n",
    "    op_0=op_cruise,\n",
    "    tf=5,\n",
    "    realtime=True)"
   ]
  }
 ],
 "metadata": {
  "kernelspec": {
   "display_name": "Python 3",
   "language": "python",
   "name": "python3"
  },
  "language_info": {
   "codemirror_mode": {
    "name": "ipython",
    "version": 3
   },
   "file_extension": ".py",
   "mimetype": "text/x-python",
   "name": "python",
   "nbconvert_exporter": "python",
   "pygments_lexer": "ipython3",
   "version": "3.7.9"
  }
 },
 "nbformat": 4,
 "nbformat_minor": 5
}
