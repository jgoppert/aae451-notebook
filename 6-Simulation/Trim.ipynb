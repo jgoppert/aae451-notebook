{
 "cells": [
  {
   "cell_type": "code",
   "execution_count": 1,
   "id": "graphic-manor",
   "metadata": {},
   "outputs": [],
   "source": [
    "import matplotlib.pyplot as plt\n",
    "import numpy as np\n",
    "import pandas as pd\n",
    "import matplotlib.pyplot as plt\n",
    "\n",
    "from jsbsim_utils import Logger, trim, simulate"
   ]
  },
  {
   "cell_type": "code",
   "execution_count": 2,
   "id": "primary-parliament",
   "metadata": {},
   "outputs": [
    {
     "name": "stdout",
     "output_type": "stream",
     "text": [
      " final_simplex: (array([[4.85765918e-04, 3.70162834e+00],\n",
      "       [4.85765918e-04, 3.70162834e+00],\n",
      "       [4.85765918e-04, 3.70162834e+00]]), array([9.03386380e-12, 9.03386381e-12, 9.03386381e-12]))\n",
      "           fun: 9.033863801684596e-12\n",
      "       message: 'Optimization terminated successfully.'\n",
      "          nfev: 300\n",
      "           nit: 152\n",
      "        status: 0\n",
      "       success: True\n",
      "             x: array([4.85765918e-04, 3.70162834e+00])\n"
     ]
    },
    {
     "data": {
      "text/plain": [
       "{'ic/vt-fps': 0,\n",
       " 'gear/gear-cmd-norm': 1,\n",
       " 'propulsion/engine/pitch-angle-rad': 0,\n",
       " 'fcs/throttle-cmd-norm': 0,\n",
       " 'fcs/aileron-cmd-norm': 0,\n",
       " 'fcs/elevator-cmd-norm': 0,\n",
       " 'fcs/rudder-cmd-norm': 0,\n",
       " 'fcs/left-brake-cmd-norm': 1,\n",
       " 'fcs/right-brake-cmd-norm': 1,\n",
       " 'fcs/center-brake-cmd-norm': 1,\n",
       " 'ic/theta-rad': 0.0004857659179286267,\n",
       " 'ic/h-agl-ft': 3.7016283364266105}"
      ]
     },
     "execution_count": 2,
     "metadata": {},
     "output_type": "execute_result"
    }
   ],
   "source": [
    "op_ground, fdm = trim(\n",
    "    aircraft='F-35B-2',\n",
    "    ic={\n",
    "        'ic/vt-fps': 0,\n",
    "        'gear/gear-cmd-norm': 1,\n",
    "        'propulsion/engine/pitch-angle-rad': 0,\n",
    "        'fcs/throttle-cmd-norm': 0,\n",
    "        'fcs/throttle-cmd-norm': 0,\n",
    "        'fcs/aileron-cmd-norm': 0,\n",
    "        'fcs/elevator-cmd-norm': 0,\n",
    "        'fcs/rudder-cmd-norm': 0,\n",
    "        'fcs/left-brake-cmd-norm': 1,\n",
    "        'fcs/right-brake-cmd-norm': 1,\n",
    "        'fcs/center-brake-cmd-norm': 1,\n",
    "    },\n",
    "    design_vector=['ic/theta-rad', 'ic/h-agl-ft'],\n",
    "    x0=[0, 0],\n",
    "    verbose=True,\n",
    "    method='Nelder-Mead', # works better with ground interaction\n",
    "    tol=1e-12,\n",
    ")\n",
    "op_ground"
   ]
  },
  {
   "cell_type": "code",
   "execution_count": 3,
   "id": "smooth-guest",
   "metadata": {},
   "outputs": [],
   "source": [
    "log_ground = simulate(\n",
    "    aircraft='F-35B-2',\n",
    "    op_0=op_ground,\n",
    "    tf=5,\n",
    "    realtime=True)"
   ]
  },
  {
   "cell_type": "code",
   "execution_count": 4,
   "id": "black-shape",
   "metadata": {},
   "outputs": [
    {
     "name": "stdout",
     "output_type": "stream",
     "text": [
      "      fun: 7.958220317842783e-12\n",
      " hess_inv: <3x3 LbfgsInvHessProduct with dtype=float64>\n",
      "      jac: array([-2.28678391e-06, -7.58740190e-08, -2.17958560e-07])\n",
      "  message: 'CONVERGENCE: REL_REDUCTION_OF_F_<=_FACTR*EPSMCH'\n",
      "     nfev: 112\n",
      "      nit: 15\n",
      "     njev: 28\n",
      "   status: 0\n",
      "  success: True\n",
      "        x: array([ 1.01011378, -0.20000592,  1.57079635])\n"
     ]
    },
    {
     "data": {
      "text/plain": [
       "{'ic/h-agl-ft': 30,\n",
       " 'ic/vd-fps': 0,\n",
       " 'ic/vn-fps': 0.0,\n",
       " 'ic/ve-fps': -0.0,\n",
       " 'ic/theta-rad': 0,\n",
       " 'gear/gear-cmd-norm': 1,\n",
       " 'fcs/left-brake-cmd-norm': 0,\n",
       " 'fcs/right-brake-cmd-norm': 0,\n",
       " 'fcs/center-brake-cmd-norm': 0,\n",
       " 'fcs/throttle-cmd-norm': 1.0101137800173208,\n",
       " 'fcs/elevator-cmd-norm': -0.20000591502139517,\n",
       " 'propulsion/engine/pitch-angle-rad': 1.5707963507096374}"
      ]
     },
     "execution_count": 4,
     "metadata": {},
     "output_type": "execute_result"
    }
   ],
   "source": [
    "op_hover, fdm = trim(\n",
    "    aircraft='F-35B-2',\n",
    "    ic={\n",
    "        'ic/h-agl-ft': 30,\n",
    "        'ic/vd-fps': 0,\n",
    "        'ic/vn-fps': 0*np.cos(np.deg2rad(280)),\n",
    "        'ic/ve-fps': 0*np.sin(np.deg2rad(280)),\n",
    "        'ic/theta-rad': 0,\n",
    "        'gear/gear-cmd-norm': 1,\n",
    "        'fcs/left-brake-cmd-norm': 0,\n",
    "        'fcs/right-brake-cmd-norm': 0,\n",
    "        'fcs/center-brake-cmd-norm': 0,\n",
    "    },\n",
    "    design_vector=[\n",
    "        'fcs/throttle-cmd-norm',\n",
    "        'fcs/elevator-cmd-norm',\n",
    "        'propulsion/engine/pitch-angle-rad',\n",
    "    ],\n",
    "    x0=[0, 0, np.deg2rad(90)],\n",
    "    verbose=True,\n",
    "    bounds=[[0, 2], [-1, 1], [np.deg2rad(0), np.deg2rad(120)]],\n",
    "    tol=1e-12\n",
    ")\n",
    "op_hover"
   ]
  },
  {
   "cell_type": "code",
   "execution_count": 5,
   "id": "nervous-chest",
   "metadata": {},
   "outputs": [],
   "source": [
    "log_hover = simulate(\n",
    "    aircraft='F-35B-2',\n",
    "    op_0=op_hover,\n",
    "    tf=5,\n",
    "    realtime=True)"
   ]
  },
  {
   "cell_type": "code",
   "execution_count": 6,
   "id": "obvious-public",
   "metadata": {},
   "outputs": [
    {
     "name": "stdout",
     "output_type": "stream",
     "text": [
      "      fun: 6.239404246054265e-10\n",
      " hess_inv: <6x6 LbfgsInvHessProduct with dtype=float64>\n",
      "      jac: array([ 3.07506522e-09, -8.99043948e-09,  3.91328591e-09, -9.02286640e-09,\n",
      "        1.46000459e-07,  5.30495620e-08])\n",
      "  message: 'CONVERGENCE: REL_REDUCTION_OF_F_<=_FACTR*EPSMCH'\n",
      "     nfev: 490\n",
      "      nit: 55\n",
      "     njev: 70\n",
      "   status: 0\n",
      "  success: True\n",
      "        x: array([ 9.28218747e-01, -6.84827029e-02,  3.21057361e-04,  4.14502207e-06,\n",
      "       -2.51992136e-03,  2.71620549e-04])\n"
     ]
    },
    {
     "data": {
      "text/plain": [
       "{'ic/gamma-rad': 0,\n",
       " 'ic/vt-fps': 800,\n",
       " 'ic/h-agl-ft': 500,\n",
       " 'gear/gear-cmd-norm': 0,\n",
       " 'propulsion/engine/pitch-angle-rad': 0,\n",
       " 'fcs/left-brake-cmd-norm': 0,\n",
       " 'fcs/right-brake-cmd-norm': 0,\n",
       " 'fcs/center-brake-cmd-norm': 0,\n",
       " 'fcs/throttle-cmd-norm': 0.9282187469598029,\n",
       " 'fcs/elevator-cmd-norm': -0.06848270291113522,\n",
       " 'fcs/rudder-cmd-norm': 0.00032105736068299484,\n",
       " 'fcs/aileron-cmd-norm': 4.145022065280362e-06,\n",
       " 'ic/alpha-rad': -0.0025199213555034045,\n",
       " 'ic/beta-rad': 0.00027162054937693634}"
      ]
     },
     "execution_count": 6,
     "metadata": {},
     "output_type": "execute_result"
    }
   ],
   "source": [
    "op_cruise, fdm = trim(\n",
    "    aircraft='F-35B-2',\n",
    "    ic={\n",
    "        'ic/gamma-rad': 0,\n",
    "        'ic/vt-fps': 800,\n",
    "        'ic/h-agl-ft': 500,\n",
    "        'gear/gear-cmd-norm': 0,\n",
    "        'propulsion/engine/pitch-angle-rad': 0,\n",
    "        'fcs/left-brake-cmd-norm': 0,\n",
    "        'fcs/right-brake-cmd-norm': 0,\n",
    "        'fcs/center-brake-cmd-norm': 0,\n",
    "    },\n",
    "    design_vector=[\n",
    "        'fcs/throttle-cmd-norm',\n",
    "        'fcs/elevator-cmd-norm',\n",
    "        'fcs/rudder-cmd-norm',\n",
    "        'fcs/aileron-cmd-norm',\n",
    "        'ic/alpha-rad',\n",
    "        'ic/beta-rad',\n",
    "    ],\n",
    "    x0=[0.5, 0, 0, 0, 0, 0],\n",
    "    verbose=True,\n",
    "    bounds=[[0, 2], [-1, 1], [-1, 1], [-1, 1], [-1, 1], [-1, 1]],\n",
    "    tol=1e-12,\n",
    ")\n",
    "op_cruise"
   ]
  },
  {
   "cell_type": "code",
   "execution_count": 7,
   "id": "precise-utility",
   "metadata": {},
   "outputs": [],
   "source": [
    "log_cruise = simulate(\n",
    "    aircraft='F-35B-2',\n",
    "    op_0=op_cruise,\n",
    "    tf=5,\n",
    "    realtime=True)"
   ]
  }
 ],
 "metadata": {
  "kernelspec": {
   "display_name": "Python 3",
   "language": "python",
   "name": "python3"
  },
  "language_info": {
   "codemirror_mode": {
    "name": "ipython",
    "version": 3
   },
   "file_extension": ".py",
   "mimetype": "text/x-python",
   "name": "python",
   "nbconvert_exporter": "python",
   "pygments_lexer": "ipython3",
   "version": "3.7.9"
  }
 },
 "nbformat": 4,
 "nbformat_minor": 5
}
