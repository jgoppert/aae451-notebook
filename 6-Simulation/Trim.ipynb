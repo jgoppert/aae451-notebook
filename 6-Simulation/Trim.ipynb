{
 "cells": [
  {
   "cell_type": "code",
   "execution_count": 1,
   "id": "loved-blanket",
   "metadata": {},
   "outputs": [],
   "source": [
    "import matplotlib.pyplot as plt\n",
    "import numpy as np\n",
    "import pandas as pd\n",
    "import matplotlib.pyplot as plt\n",
    "\n",
    "from jsbsim_utils import Logger, trim, simulate"
   ]
  },
  {
   "cell_type": "markdown",
   "id": "preceding-memorial",
   "metadata": {},
   "source": [
    "Nonlinear-dynamics of aircraft\n",
    "\n",
    "$$\\dot{x} = f(x, u)$$\n",
    "\n",
    "Find equilibrium:\n",
    "\n",
    "Minimize $\\dot{x}$, or a subset for your problem, by changeing $x_0$, $u_0$\n",
    "\n",
    "$$0 = f(x_0, u_0)$$\n",
    "\n",
    "This is an optimization problem.\n",
    "\n",
    "* Matlab: fmincon, fminsearch\n",
    "* Python: scipy.minimize (Nelder-Mead, SLSQP)\n",
    "\n",
    "Can simplify this problem with mixing matrices, to decouple the dynamcis into SISO (single-input-single output) systems."
   ]
  },
  {
   "cell_type": "markdown",
   "id": "foster-landing",
   "metadata": {},
   "source": [
    "Due to Taylor series error on the order of (dx^2). We know the linear model approx, does well near the equilibrium point. "
   ]
  },
  {
   "cell_type": "markdown",
   "id": "aggregate-reader",
   "metadata": {},
   "source": [
    "$\\dot{\\vec{x}} = \\vec{f}(x, u) = A \\vec{x} + B \\vec{u}$\n",
    "\n",
    "$\\dot{\\vec{y}} = C \\vec{x} + D \\vec{u}$\n",
    "\n",
    "\n",
    "$A = \\dfrac{\\delta \\vec{f}(x0, u0)}{\\delta \\vec{x}}$\n",
    "\n",
    "$B = \\dfrac{\\delta \\vec{f}(x0, u0)}{\\delta \\vec{u}}$\n",
    "\n",
    "$C = \\dfrac{\\delta \\vec{y}(x0, u0)}{\\delta \\vec{x}}$\n",
    "\n",
    "$D = \\dfrac{\\delta \\vec{y}(x0, u0)}{\\delta \\vec{u}}$"
   ]
  },
  {
   "cell_type": "code",
   "execution_count": 2,
   "id": "muslim-electron",
   "metadata": {},
   "outputs": [
    {
     "name": "stdout",
     "output_type": "stream",
     "text": [
      " final_simplex: (array([[4.85765918e-04, 3.70162834e+00],\n",
      "       [4.85765918e-04, 3.70162834e+00],\n",
      "       [4.85765918e-04, 3.70162834e+00]]), array([9.03386380e-12, 9.03386381e-12, 9.03386381e-12]))\n",
      "           fun: 9.033863801684596e-12\n",
      "       message: 'Optimization terminated successfully.'\n",
      "          nfev: 300\n",
      "           nit: 152\n",
      "        status: 0\n",
      "       success: True\n",
      "             x: array([4.85765918e-04, 3.70162834e+00])\n"
     ]
    },
    {
     "data": {
      "text/plain": [
       "{'ic/vt-fps': 0,\n",
       " 'gear/gear-cmd-norm': 1,\n",
       " 'propulsion/engine/pitch-angle-rad': 0.0,\n",
       " 'fcs/throttle-cmd-norm': 0,\n",
       " 'fcs/aileron-cmd-norm': 0,\n",
       " 'fcs/elevator-cmd-norm': 0,\n",
       " 'fcs/rudder-cmd-norm': 0,\n",
       " 'fcs/left-brake-cmd-norm': 1,\n",
       " 'fcs/right-brake-cmd-norm': 1,\n",
       " 'fcs/center-brake-cmd-norm': 1,\n",
       " 'ic/theta-rad': 0.0004857659179286267,\n",
       " 'ic/h-agl-ft': 3.7016283364266105}"
      ]
     },
     "execution_count": 2,
     "metadata": {},
     "output_type": "execute_result"
    }
   ],
   "source": [
    "op_ground, fdm = trim(\n",
    "    aircraft='F-35B-2',\n",
    "    ic={\n",
    "        'ic/vt-fps': 0,\n",
    "        'gear/gear-cmd-norm': 1,\n",
    "        'propulsion/engine/pitch-angle-rad': np.deg2rad(0),\n",
    "        'fcs/throttle-cmd-norm': 0,\n",
    "        'fcs/aileron-cmd-norm': 0,\n",
    "        'fcs/elevator-cmd-norm': 0,\n",
    "        'fcs/rudder-cmd-norm': 0,\n",
    "        'fcs/left-brake-cmd-norm': 1,\n",
    "        'fcs/right-brake-cmd-norm': 1,\n",
    "        'fcs/center-brake-cmd-norm': 1,\n",
    "    },\n",
    "    design_vector=['ic/theta-rad', 'ic/h-agl-ft'],\n",
    "    x0=[0, 0],\n",
    "    verbose=True,\n",
    "    method='Nelder-Mead', # works better with ground interaction\n",
    "    tol=1e-12,\n",
    ")\n",
    "op_ground"
   ]
  },
  {
   "cell_type": "code",
   "execution_count": 3,
   "id": "interstate-carrier",
   "metadata": {},
   "outputs": [],
   "source": [
    "log_ground = simulate(\n",
    "    aircraft='F-35B-2',\n",
    "    op_0=op_ground,\n",
    "    tf=5,\n",
    "    realtime=True)"
   ]
  },
  {
   "cell_type": "code",
   "execution_count": 4,
   "id": "musical-constitutional",
   "metadata": {},
   "outputs": [
    {
     "data": {
      "text/plain": [
       "False"
      ]
     },
     "execution_count": 4,
     "metadata": {},
     "output_type": "execute_result"
    }
   ],
   "source": [
    "fdm.resume_integration()\n",
    "fdm.get_propulsion().get_steady_state()"
   ]
  },
  {
   "cell_type": "code",
   "execution_count": 5,
   "id": "genuine-regard",
   "metadata": {},
   "outputs": [
    {
     "data": {
      "text/plain": [
       "<AxesSubplot:xlabel='t, sec'>"
      ]
     },
     "execution_count": 5,
     "metadata": {},
     "output_type": "execute_result"
    },
    {
     "data": {
      "image/png": "[encoded data removed]",
      "text/plain": [
       "<Figure size 432x288 with 1 Axes>"
      ]
     },
     "metadata": {
      "needs_background": "light"
     },
     "output_type": "display_data"
    }
   ],
   "source": [
    "log_ground['propulsion/engine/thrust-lbs'].plot()"
   ]
  },
  {
   "cell_type": "code",
   "execution_count": 6,
   "id": "separate-amino",
   "metadata": {},
   "outputs": [
    {
     "name": "stdout",
     "output_type": "stream",
     "text": [
      "      fun: 8.881051951361937e-12\n",
      " hess_inv: <3x3 LbfgsInvHessProduct with dtype=float64>\n",
      "      jac: array([-1.44181750e-06,  2.29155517e-08,  1.49438468e-07])\n",
      "  message: 'CONVERGENCE: REL_REDUCTION_OF_F_<=_FACTR*EPSMCH'\n",
      "     nfev: 80\n",
      "      nit: 16\n",
      "     njev: 20\n",
      "   status: 0\n",
      "  success: True\n",
      "        x: array([ 1.00984854, -0.19994762,  1.57079635])\n"
     ]
    },
    {
     "data": {
      "text/plain": [
       "{'ic/h-agl-ft': 10,\n",
       " 'ic/vd-fps': 0,\n",
       " 'ic/vn-fps': 0.0,\n",
       " 'ic/ve-fps': -0.0,\n",
       " 'ic/theta-rad': 0,\n",
       " 'gear/gear-cmd-norm': 1,\n",
       " 'fcs/left-brake-cmd-norm': 0,\n",
       " 'fcs/right-brake-cmd-norm': 0,\n",
       " 'fcs/center-brake-cmd-norm': 0,\n",
       " 'fcs/throttle-cmd-norm': 1.0098485353943794,\n",
       " 'fcs/elevator-cmd-norm': -0.19994762313695125,\n",
       " 'propulsion/engine/pitch-angle-rad': 1.5707963530211393}"
      ]
     },
     "execution_count": 6,
     "metadata": {},
     "output_type": "execute_result"
    }
   ],
   "source": [
    "op_hover, fdm = trim(\n",
    "    aircraft='F-35B-2',\n",
    "    ic={\n",
    "        'ic/h-agl-ft': 10,\n",
    "        'ic/vd-fps': 0,\n",
    "        'ic/vn-fps': 0*np.cos(np.deg2rad(280)),\n",
    "        'ic/ve-fps': 0*np.sin(np.deg2rad(280)),\n",
    "        'ic/theta-rad': 0,\n",
    "        'gear/gear-cmd-norm': 1,\n",
    "        'fcs/left-brake-cmd-norm': 0,\n",
    "        'fcs/right-brake-cmd-norm': 0,\n",
    "        'fcs/center-brake-cmd-norm': 0,\n",
    "    },\n",
    "    design_vector=[\n",
    "        'fcs/throttle-cmd-norm',\n",
    "        'fcs/elevator-cmd-norm',\n",
    "        'propulsion/engine/pitch-angle-rad',\n",
    "    ],\n",
    "    x0=[0.1, 0, np.deg2rad(90)],\n",
    "    verbose=True,\n",
    "    bounds=[[0, 2], [-1, 1], [np.deg2rad(0), np.deg2rad(120)]],\n",
    "    tol=1e-12\n",
    ")\n",
    "op_hover"
   ]
  },
  {
   "cell_type": "code",
   "execution_count": null,
   "id": "american-gabriel",
   "metadata": {},
   "outputs": [],
   "source": [
    "log_hover = simulate(\n",
    "    aircraft='F-35B-2',\n",
    "    op_0=op_hover,\n",
    "    tf=5,\n",
    "    realtime=True)"
   ]
  },
  {
   "cell_type": "code",
   "execution_count": null,
   "id": "given-links",
   "metadata": {},
   "outputs": [],
   "source": [
    "def cost_cruise(fdm):\n",
    "    # modify cost to also penalize throttle\n",
    "    delta = fdm['propulsion/engine/pitch-angle-rad']\n",
    "    theta = fdm['attitude/theta-rad']\n",
    "    drag = fdm['forces/fwx-aero-lbs']\n",
    "    lift = fdm['forces/fwz-aero-lbs']\n",
    "    alpha = fdm['aero/alpha-rad']\n",
    "    throttle = fdm['fcs/throttle-cmd-norm']\n",
    "    \n",
    "    udot = fdm['accelerations/udot-ft_sec2']\n",
    "    vdot = fdm['accelerations/vdot-ft_sec2']\n",
    "    wdot = fdm['accelerations/wdot-ft_sec2']\n",
    "    pdot = fdm['accelerations/pdot-rad_sec2']\n",
    "    qdot = fdm['accelerations/qdot-rad_sec2']\n",
    "    rdot = fdm['accelerations/rdot-rad_sec2']\n",
    "    return udot**2 + vdot**2 + wdot**2 + pdot**2 + qdot**2 + rdot**2 - 1e-3*(lift/drag)**2 + 1e-3*(theta < 0)\n",
    "        \n",
    "op_cruise, fdm = trim(\n",
    "    aircraft='F-35B-2',\n",
    "    ic={\n",
    "        'ic/gamma-rad': 0,\n",
    "        'ic/vt-fps': 1100,\n",
    "        'ic/h-agl-ft': 30,\n",
    "        'gear/gear-cmd-norm': 0,\n",
    "        'fcs/left-brake-cmd-norm': 0,\n",
    "        'fcs/right-brake-cmd-norm': 0,\n",
    "        'fcs/center-brake-cmd-norm': 0,\n",
    "        #'propulsion/engine/pitch-angle-rad': 0,\n",
    "    },\n",
    "    design_vector=[\n",
    "        'fcs/throttle-cmd-norm',\n",
    "        'fcs/elevator-cmd-norm',\n",
    "        'fcs/rudder-cmd-norm',\n",
    "        'fcs/aileron-cmd-norm',\n",
    "        'ic/alpha-rad',\n",
    "        'ic/beta-rad',\n",
    "        'propulsion/engine/pitch-angle-rad',\n",
    "    ],\n",
    "    cost=cost_cruise,\n",
    "    x0=[0.1, 0, 0, 0, 0, 0, 0],\n",
    "    verbose=True,\n",
    "    bounds=[[0, 2], [-1, 1], [-1, 1], [-1, 1], [-1, 1], [-1, 1], [np.deg2rad(0), np.deg2rad(120)]],\n",
    "    tol=1e-12,\n",
    ")\n",
    "op_cruise"
   ]
  },
  {
   "cell_type": "code",
   "execution_count": null,
   "id": "fifth-beverage",
   "metadata": {},
   "outputs": [],
   "source": [
    "log_cruise = simulate(\n",
    "    aircraft='F-35B-2',\n",
    "    op_0=op_cruise,\n",
    "    tf=5,\n",
    "    realtime=True)"
   ]
  }
 ],
 "metadata": {
  "kernelspec": {
   "display_name": "Python 3",
   "language": "python",
   "name": "python3"
  },
  "language_info": {
   "codemirror_mode": {
    "name": "ipython",
    "version": 3
   },
   "file_extension": ".py",
   "mimetype": "text/x-python",
   "name": "python",
   "nbconvert_exporter": "python",
   "pygments_lexer": "ipython3",
   "version": "3.7.9"
  }
 },
 "nbformat": 4,
 "nbformat_minor": 5
}
